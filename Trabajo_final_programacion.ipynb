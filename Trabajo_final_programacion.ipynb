{
  "nbformat": 4,
  "nbformat_minor": 0,
  "metadata": {
    "colab": {
      "provenance": [],
      "authorship_tag": "ABX9TyP8JhS/k66AxDd0EEzy+I6K",
      "include_colab_link": true
    },
    "kernelspec": {
      "name": "python3",
      "display_name": "Python 3"
    },
    "language_info": {
      "name": "python"
    }
  },
  "cells": [
    {
      "cell_type": "markdown",
      "metadata": {
        "id": "view-in-github",
        "colab_type": "text"
      },
      "source": [
        "<a href=\"https://colab.research.google.com/github/Jenevta/Programming101-Final/blob/main/Trabajo_final_programacion.ipynb\" target=\"_parent\"><img src=\"https://colab.research.google.com/assets/colab-badge.svg\" alt=\"Open In Colab\"/></a>"
      ]
    },
    {
      "cell_type": "markdown",
      "source": [
        "El presente trabajo tiene como proposito explorar una base de datos de performance del sistema de distribucion de gas natural para la region de Calidda"
      ],
      "metadata": {
        "id": "K9yYoOPqcPj1"
      }
    },
    {
      "cell_type": "code",
      "execution_count": null,
      "metadata": {
        "id": "JXNF-DUIb5bT"
      },
      "outputs": [],
      "source": [
        "import pandas as pd\n",
        "import numpy as np\n",
        "import seaborn as sn\n",
        "import matplotlib.pyplot as plt\n",
        "\n",
        "#configurar el display de los floats con 2 decimales\n",
        "pd.options.display.float_format = '{:,.2f}'.format"
      ]
    },
    {
      "cell_type": "markdown",
      "source": [
        "Inicia con la limpieza de los datos. Principalmente asignando los tipos correctos y cambiando los nombres de las columnas para mayor clarida"
      ],
      "metadata": {
        "id": "6Qml2S2IDcgS"
      }
    },
    {
      "cell_type": "code",
      "source": [
        "df = pd.read_csv('CITY_GATE.csv')\n",
        "#Observar parte de nuestro dataset\n",
        "df.head()\n",
        "#Obtener los nombres exactos de las columnas\n",
        "df.columns\n",
        "#Obtener los tipos de datos de las columnas\n",
        "df.dtypes\n",
        "#Realizamos un cambio de nombres de las columnas\n",
        "df.columns = ['nombre_estacion','fecha','vol_entregado_m3','flujo_max_m3xh','vol_max_m3xh','porcentaje_capacidad_usada','flujo_min_m3xh','presion_entrega_bar','Temperatura_max','Capacidad_autorizada_m3']\n",
        "\n",
        "#Iniciamos colocando los formatos correctos de la columnas en nuestro dataframe\n",
        "#Cambio de object a datetime\n",
        "df['fecha'] = pd.to_datetime(df['FECHA'])\n",
        "#Cambio de procentaje a float\n",
        "df['porcentaje_capacidad_usada'] = pd.to_numeric(df['porcentaje_capacidad_usada'].str.rstrip('%'), errors='coerce').astype('float64')\n",
        "\n",
        "#revision de columnas que estan como objects y deberian ser numericas\n",
        "df.loc[:,['vol_entregado_m3','vol_max_m3xh','flujo_max_m3xh','flujo_min_m3xh']].head(10)\n",
        "df.loc[:,['vol_entregado_m3','vol_max_m3xh','flujo_max_m3xh','flujo_min_m3xh']] = df.loc[:,['vol_entregado_m3','vol_max_m3xh','flujo_max_m3xh','flujo_min_m3xh']].apply(lambda x: x.str.replace(',','')).apply(lambda x: pd.to_numeric(x,errors='coerce'))\n",
        "\n",
        "#revision de la columna temperatura que tienes varios valores en blanco\n",
        "\n",
        "df['Temperatura_max_C'] = pd.to_numeric(df['Temperatura_max_C'], errors='coerce')\n",
        "df['Temperatura_max_C'].isna().sum() #inidicar cuantos sobre el total son nan\n",
        "\n",
        "#Store the format data into a csv\n",
        "df.to_csv('clean_city_gate.csv',index=False)\n"
      ],
      "metadata": {
        "id": "8VjgKnqocurG"
      },
      "execution_count": null,
      "outputs": []
    },
    {
      "cell_type": "markdown",
      "source": [
        "Iniciamos con la descripcion de los datos"
      ],
      "metadata": {
        "id": "idc_K1niDbjd"
      }
    },
    {
      "cell_type": "code",
      "source": [
        "df.describe().apply(lambda x: x.apply('{:.2f}'.format))\n",
        "# generacion del porcentaje de uso tomando como base el maximo flujo maximo\n",
        "df['porcentaje_uso'] = df['vol_entregado_m3'].apply(lambda x : x/vol_max_t)\n",
        "\n",
        "# Separamos el consumo por year\n",
        "\n",
        "\n",
        "vol_2023 = df.loc[df['fecha'].dt.year == 2023,['fecha','vol_entregado_m3']]\n",
        "vol_2023['mes'] = vol_2023['fecha'].dt.month\n",
        "vol_2024 = df.loc[df['fecha'].dt.year == 2024,['fecha','vol_entregado_m3']]\n",
        "vol_2024['mes'] = vol_2023['fecha'].dt.month\n",
        "\n",
        "\n",
        "sn.histplot(df[['porcentaje_uso','fecha']])\n",
        "\n",
        "\n",
        "sn.histplot(df['porcentaje_capacidad_usada'],kde=True,bins=30)\n",
        "plt.title('Distribución de Porcentaje de Capacidad Usada')\n",
        "plt.xlabel('Porcentaje de Capacidad Usada')\n",
        "plt.ylabel('Frecuencia')\n",
        "plt.show()\n",
        "\n",
        "\n",
        "sn.lineplot(df[['porcentaje_capacidad_usada','fecha']],x='fecha',y='porcentaje_capacidad_usada')\n"
      ],
      "metadata": {
        "id": "2ywtbEyiDwJV"
      },
      "execution_count": null,
      "outputs": []
    }
  ]
}